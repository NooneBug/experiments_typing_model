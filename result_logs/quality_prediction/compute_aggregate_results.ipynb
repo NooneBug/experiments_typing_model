{
 "cells": [
  {
   "cell_type": "code",
   "execution_count": 11,
   "metadata": {},
   "outputs": [],
   "source": [
    "path = 'sota_BF_BalancedOntonotes.txt'\n",
    "out_path = 'averages.txt'"
   ]
  },
  {
   "cell_type": "code",
   "execution_count": 12,
   "metadata": {},
   "outputs": [],
   "source": [
    "with open(path, 'r') as inp:\n",
    "    lines = [l.replace('\\n', '').split('\\t') for l in inp.readlines()]\n",
    "    lines = [[float(v) for v in l]for l in lines]"
   ]
  },
  {
   "cell_type": "code",
   "execution_count": 13,
   "metadata": {},
   "outputs": [],
   "source": [
    "import numpy as np\n",
    "metric_number = 5\n",
    "\n",
    "avg_metrics = ''\n",
    "stds = ''\n",
    "\n",
    "for i in range(metric_number):\n",
    "    avg_metrics += '{}\\t'.format(np.mean([l[i] for l in lines]))\n",
    "    stds += '{}\\t'.format(np.std([l[i] for l in lines]))\n",
    "\n",
    "with open(out_path, 'a') as out:\n",
    "    out.write('\\n--------------------------------\\n')\n",
    "    out.write(avg_metrics[:-1])\n",
    "    out.write('\\n')\n",
    "    out.write(stds[:-1])"
   ]
  },
  {
   "cell_type": "code",
   "execution_count": 12,
   "metadata": {},
   "outputs": [
    {
     "output_type": "execute_result",
     "data": {
      "text/plain": [
       "84.33333333333333"
      ]
     },
     "metadata": {},
     "execution_count": 12
    }
   ],
   "source": [
    "np.mean([69, 69, 115])"
   ]
  },
  {
   "cell_type": "code",
   "execution_count": 13,
   "metadata": {},
   "outputs": [
    {
     "output_type": "execute_result",
     "data": {
      "text/plain": [
       "21.684607956387456"
      ]
     },
     "metadata": {},
     "execution_count": 13
    }
   ],
   "source": [
    "import numpy as np\n",
    "\n",
    "np.std([69, 69, 115])"
   ]
  },
  {
   "cell_type": "code",
   "execution_count": null,
   "metadata": {},
   "outputs": [],
   "source": []
  }
 ],
 "metadata": {
  "kernelspec": {
   "display_name": "Python 3",
   "language": "python",
   "name": "python3"
  },
  "language_info": {
   "codemirror_mode": {
    "name": "ipython",
    "version": 3
   },
   "file_extension": ".py",
   "mimetype": "text/x-python",
   "name": "python",
   "nbconvert_exporter": "python",
   "pygments_lexer": "ipython3",
   "version": "3.7.6-final"
  }
 },
 "nbformat": 4,
 "nbformat_minor": 4
}