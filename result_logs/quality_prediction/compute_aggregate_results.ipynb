{
 "cells": [
  {
   "cell_type": "code",
   "execution_count": 4,
   "metadata": {},
   "outputs": [],
   "source": [
    "path = 'sota_BBS_ontonotes.txt'\n",
    "out_path = 'averages.txt'"
   ]
  },
  {
   "cell_type": "code",
   "execution_count": 5,
   "metadata": {},
   "outputs": [],
   "source": [
    "with open(path, 'r') as inp:\n",
    "    lines = [l.replace('\\n', '').split('\\t') for l in inp.readlines()]\n",
    "    lines = [[float(v) for v in l]for l in lines]"
   ]
  },
  {
   "cell_type": "code",
   "execution_count": 6,
   "metadata": {},
   "outputs": [],
   "source": [
    "import numpy as np\n",
    "metric_number = 5\n",
    "\n",
    "avg_metrics = ''\n",
    "stds = ''\n",
    "\n",
    "for i in range(metric_number):\n",
    "    avg_metrics += '{}\\t'.format(np.mean([l[i] for l in lines]))\n",
    "    stds += '{}\\t'.format(np.std([l[i] for l in lines]))\n",
    "\n",
    "with open(out_path, 'a') as out:\n",
    "    out.write('\\n--------------------------------\\n')\n",
    "    out.write(avg_metrics[:-1])\n",
    "    out.write('\\n')\n",
    "    out.write(stds[:-1])"
   ]
  },
  {
   "cell_type": "code",
   "execution_count": 9,
   "metadata": {},
   "outputs": [
    {
     "data": {
      "text/plain": [
       "0.48989794855663565"
      ]
     },
     "execution_count": 9,
     "metadata": {},
     "output_type": "execute_result"
    }
   ],
   "source": [
    "import numpy as np\n",
    "\n",
    "np.std([10, 10 , 10, 11, 11])"
   ]
  },
  {
   "cell_type": "code",
   "execution_count": 8,
   "metadata": {},
   "outputs": [
    {
     "data": {
      "text/plain": [
       "55.4"
      ]
     },
     "execution_count": 8,
     "metadata": {},
     "output_type": "execute_result"
    }
   ],
   "source": [
    "np.mean([42, 43, 54, 90, 48 ])"
   ]
  },
  {
   "cell_type": "code",
   "execution_count": null,
   "metadata": {},
   "outputs": [],
   "source": []
  }
 ],
 "metadata": {
  "kernelspec": {
   "display_name": "Python 3",
   "language": "python",
   "name": "python3"
  },
  "language_info": {
   "codemirror_mode": {
    "name": "ipython",
    "version": 3
   },
   "file_extension": ".py",
   "mimetype": "text/x-python",
   "name": "python",
   "nbconvert_exporter": "python",
   "pygments_lexer": "ipython3",
   "version": "3.6.9"
  }
 },
 "nbformat": 4,
 "nbformat_minor": 4
}
