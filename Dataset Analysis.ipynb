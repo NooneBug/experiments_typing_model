{
 "cells": [
  {
   "cell_type": "code",
   "execution_count": 23,
   "metadata": {},
   "outputs": [],
   "source": [
    "import json\n",
    "\n",
    "def load_dataset(dataset_path):\n",
    "    with open(dataset_path, 'r') as inp:\n",
    "        lines = [json.loads(l) for l in inp.readlines()] \n",
    "    return lines\n",
    "\n",
    "def print_lines(lines):\n",
    "    print('{} lines in the dataset'.format(len(lines)))\n",
    "\n",
    "def get_type_number(lines):\n",
    "    types = set()\n",
    "    \n",
    "    for l in lines:\n",
    "        for t in l['y_str']:\n",
    "            types.add(t)\n",
    "    print('{} types in this dataset'.format(len(types)))\n",
    "\n",
    "def get_types(lines):\n",
    "    types = set()\n",
    "    \n",
    "    for l in lines:\n",
    "        for t in l['y_str']:\n",
    "            types.add(t)\n",
    "    return types\n",
    "\n",
    "def get_exclusive_types(train_data, other):\n",
    "    \n",
    "    train_types = get_types(train_data)\n",
    "    other_types = get_types(other)\n",
    "    \n",
    "    print('{} exclusive types in this dataset'.format(len(other_types.difference(train_types))))\n",
    "\n",
    "from collections import Counter\n",
    "def get_most_present_type(lines):\n",
    "    types = []\n",
    "    \n",
    "    for l in lines:\n",
    "        types.extend(l['y_str'])\n",
    "    \n",
    "    abs_freq = dict(Counter(types))\n",
    "    most_freq_type = max(abs_freq, key = abs_freq.get)\n",
    "    rel_freq = abs_freq[most_freq_type] / len(lines)\n",
    "    \n",
    "    print('{} is the most frequent type, appears in the {:.2f} of sentences'.format(most_freq_type, rel_freq))\n",
    "\n",
    "import numpy as np\n",
    "def get_average_type(lines):\n",
    "    types_number = []\n",
    "    \n",
    "    for l in lines:\n",
    "        types_number.append(len(l['y_str']))\n",
    "    \n",
    "    print('There are {:.2f} types x example on average'.format(np.mean(types_number)))"
   ]
  },
  {
   "cell_type": "code",
   "execution_count": 49,
   "metadata": {},
   "outputs": [],
   "source": [
    "train_dataset_path = '/datahdd/vmanuel/entity_typing_all_datasets/data/balanced_ontonotes/train.json'\n",
    "dev_dataset_path = '/datahdd/vmanuel/entity_typing_all_datasets/data/balanced_ontonotes/dev.json'\n",
    "test_dataset_path = '/datahdd/vmanuel/entity_typing_all_datasets/data/balanced_ontonotes/test.json'"
   ]
  },
  {
   "cell_type": "code",
   "execution_count": 50,
   "metadata": {},
   "outputs": [],
   "source": [
    "train = load_dataset(train_dataset_path)\n",
    "dev = load_dataset(dev_dataset_path)\n",
    "test = load_dataset(test_dataset_path)"
   ]
  },
  {
   "cell_type": "markdown",
   "metadata": {},
   "source": [
    "## Print lines for each dataset"
   ]
  },
  {
   "cell_type": "code",
   "execution_count": 51,
   "metadata": {},
   "outputs": [
    {
     "name": "stdout",
     "output_type": "stream",
     "text": [
      "249592 lines in the dataset\n",
      "712 lines in the dataset\n",
      "735 lines in the dataset\n"
     ]
    }
   ],
   "source": [
    "print_lines(train)\n",
    "print_lines(dev)\n",
    "print_lines(test)"
   ]
  },
  {
   "cell_type": "markdown",
   "metadata": {},
   "source": [
    "## Get type number"
   ]
  },
  {
   "cell_type": "code",
   "execution_count": 52,
   "metadata": {},
   "outputs": [
    {
     "name": "stdout",
     "output_type": "stream",
     "text": [
      "87 types in this dataset\n",
      "89 types in this dataset\n",
      "88 types in this dataset\n"
     ]
    }
   ],
   "source": [
    "get_type_number(train)\n",
    "get_type_number(dev)\n",
    "get_type_number(test)"
   ]
  },
  {
   "cell_type": "markdown",
   "metadata": {},
   "source": [
    "## Get Exclusive Types"
   ]
  },
  {
   "cell_type": "code",
   "execution_count": 53,
   "metadata": {},
   "outputs": [
    {
     "name": "stdout",
     "output_type": "stream",
     "text": [
      "2 exclusive types in this dataset\n",
      "1 exclusive types in this dataset\n"
     ]
    }
   ],
   "source": [
    "get_exclusive_types(train, dev)\n",
    "get_exclusive_types(train, test)"
   ]
  },
  {
   "cell_type": "markdown",
   "metadata": {},
   "source": [
    "## Get Most Present Type"
   ]
  },
  {
   "cell_type": "code",
   "execution_count": 54,
   "metadata": {},
   "outputs": [
    {
     "name": "stdout",
     "output_type": "stream",
     "text": [
      "/other is the most frequent type, appears in the 0.37 of sentences\n",
      "/other is the most frequent type, appears in the 0.49 of sentences\n",
      "/other is the most frequent type, appears in the 0.47 of sentences\n"
     ]
    }
   ],
   "source": [
    "get_most_present_type(train)\n",
    "get_most_present_type(dev)\n",
    "get_most_present_type(test)\n"
   ]
  },
  {
   "cell_type": "markdown",
   "metadata": {},
   "source": [
    "## Get Average Type x Example"
   ]
  },
  {
   "cell_type": "code",
   "execution_count": 55,
   "metadata": {},
   "outputs": [
    {
     "name": "stdout",
     "output_type": "stream",
     "text": [
      "There are 2.79 types x example on average\n",
      "There are 3.29 types x example on average\n",
      "There are 3.16 types x example on average\n"
     ]
    }
   ],
   "source": [
    "get_average_type(train)\n",
    "get_average_type(dev)\n",
    "get_average_type(test)"
   ]
  },
  {
   "cell_type": "code",
   "execution_count": null,
   "metadata": {},
   "outputs": [],
   "source": []
  }
 ],
 "metadata": {
  "kernelspec": {
   "display_name": "Python 3",
   "language": "python",
   "name": "python3"
  },
  "language_info": {
   "codemirror_mode": {
    "name": "ipython",
    "version": 3
   },
   "file_extension": ".py",
   "mimetype": "text/x-python",
   "name": "python",
   "nbconvert_exporter": "python",
   "pygments_lexer": "ipython3",
   "version": "3.6.9"
  }
 },
 "nbformat": 4,
 "nbformat_minor": 4
}
