{
 "cells": [
  {
   "cell_type": "markdown",
   "metadata": {},
   "source": [
    "# Compute Dataset Statistics"
   ]
  },
  {
   "cell_type": "code",
   "execution_count": 22,
   "metadata": {},
   "outputs": [],
   "source": [
    "dataset_path = '/datahdd/vmanuel/entity_typing_all_datasets/data/BBN/BBN/train_partitioned.json'\n",
    "out_path = 'bbn_train.pkl'"
   ]
  },
  {
   "cell_type": "code",
   "execution_count": 23,
   "metadata": {},
   "outputs": [],
   "source": [
    "import json\n",
    "\n",
    "with open(dataset_path, 'r') as inp:\n",
    "    lines = [json.loads(l) for l in inp.readlines()]"
   ]
  },
  {
   "cell_type": "code",
   "execution_count": 24,
   "metadata": {},
   "outputs": [
    {
     "data": {
      "text/plain": [
       "84357"
      ]
     },
     "execution_count": 24,
     "metadata": {},
     "output_type": "execute_result"
    }
   ],
   "source": [
    "len(lines)"
   ]
  },
  {
   "cell_type": "code",
   "execution_count": 25,
   "metadata": {},
   "outputs": [],
   "source": [
    "labels = [l['y_str'] for l in lines]"
   ]
  },
  {
   "cell_type": "code",
   "execution_count": 26,
   "metadata": {},
   "outputs": [],
   "source": [
    "from collections import defaultdict\n",
    "\n",
    "label_counter = defaultdict(int)\n",
    "\n",
    "for l in labels:\n",
    "    for label in l:\n",
    "        label_counter[label] += 1"
   ]
  },
  {
   "cell_type": "code",
   "execution_count": 27,
   "metadata": {},
   "outputs": [],
   "source": [
    "label_perc = {k: v/len(lines) for k, v in label_counter.items()}"
   ]
  },
  {
   "cell_type": "code",
   "execution_count": 28,
   "metadata": {},
   "outputs": [],
   "source": [
    "import pickle\n",
    "with open(out_path, 'wb') as out:\n",
    "    pickle.dump(label_perc, out)"
   ]
  },
  {
   "cell_type": "code",
   "execution_count": null,
   "metadata": {},
   "outputs": [],
   "source": []
  },
  {
   "cell_type": "markdown",
   "metadata": {},
   "source": [
    "# Compute Weights"
   ]
  },
  {
   "cell_type": "code",
   "execution_count": 1,
   "metadata": {},
   "outputs": [],
   "source": [
    "dataset_path = '/datahdd/vmanuel/entity_typing_all_datasets/data/ontonotes/g_train_tree.json'\n",
    "out_path = 'ontonotes_train_weights.pkl'"
   ]
  },
  {
   "cell_type": "code",
   "execution_count": 2,
   "metadata": {},
   "outputs": [],
   "source": [
    "import json\n",
    "\n",
    "with open(dataset_path, 'r') as inp:\n",
    "    lines = [json.loads(l) for l in inp.readlines()]"
   ]
  },
  {
   "cell_type": "code",
   "execution_count": 3,
   "metadata": {},
   "outputs": [],
   "source": [
    "labels = [l['y_str'] for l in lines]"
   ]
  },
  {
   "cell_type": "code",
   "execution_count": 4,
   "metadata": {},
   "outputs": [],
   "source": [
    "from collections import defaultdict\n",
    "\n",
    "label_counter = defaultdict(int)\n",
    "\n",
    "for l in labels:\n",
    "    for label in l:\n",
    "        label_counter[label] += 1"
   ]
  },
  {
   "cell_type": "code",
   "execution_count": 10,
   "metadata": {},
   "outputs": [
    {
     "data": {
      "text/plain": [
       "{'/other': 0.36730547843163813,\n",
       " '/other/body_part': 0.018176458637900884,\n",
       " '/person/title': 0.1512513991849872,\n",
       " '/person': 0.3566417966929441,\n",
       " '/person/athlete': 0.006230107672513036,\n",
       " '/other/art': 0.07024804910790754,\n",
       " '/other/art/music': 0.015348212827488956,\n",
       " '/other/event': 0.046427049183592986,\n",
       " '/other/event/holiday': 0.009906827226048543,\n",
       " '/other/religion': 0.010587996287429444,\n",
       " '/location/country': 0.0906193858324802,\n",
       " '/location': 0.2413290365242054,\n",
       " '/other/currency': 0.016591047606148844,\n",
       " '/other/food': 0.014985719350379822,\n",
       " '/other/health/malady': 0.0304375017427571,\n",
       " '/other/health': 0.04628762861547409,\n",
       " '/person/religious_leader': 0.014344384737032891,\n",
       " '/other/product': 0.03791442763873342,\n",
       " '/other/internet': 0.01834376331964356,\n",
       " '/person/artist/author': 0.11551193240890857,\n",
       " '/person/artist': 0.14139635674138282,\n",
       " '/other/health/treatment': 0.01585809376232378,\n",
       " '/location/city': 0.05736957205852477,\n",
       " '/location/transit/road': 0.0008166061846964017,\n",
       " '/location/transit': 0.0009400929736017113,\n",
       " '/organization/company/news': 0.033042674644178795,\n",
       " '/other/art/writing': 0.04078250789717932,\n",
       " '/organization': 0.17555041248570938,\n",
       " '/organization/company': 0.08636108333764873,\n",
       " '/other/living_thing/animal': 0.008683909671405638,\n",
       " '/other/living_thing': 0.02713522600074092,\n",
       " '/other/supernatural': 0.04116491859830544,\n",
       " '/organization/music': 0.006951111181927908,\n",
       " '/other/event/violent_conflict': 0.016499428375670713,\n",
       " '/location/structure': 0.035671748214420866,\n",
       " '/organization/military': 0.013782719019753902,\n",
       " '/location/structure/government': 0.026378371488095475,\n",
       " '/person/artist/director': 0.006325710347794566,\n",
       " '/person/artist/music': 0.010560112173805664,\n",
       " '/other/product/software': 0.009181840271830274,\n",
       " '/location/celestial': 0.0031469213946836946,\n",
       " '/organization/education': 0.01257175179952119,\n",
       " '/other/product/weapon': 0.0024060006612518373,\n",
       " '/person/political_figure': 0.08546480825688439,\n",
       " '/other/art/broadcast': 0.006186289779675668,\n",
       " '/person/military': 0.04171463398117424,\n",
       " '/location/park': 0.00035452658750234026,\n",
       " '/other/sports_and_leisure': 0.0022267456450989686,\n",
       " '/other/art/film': 0.008588306996124109,\n",
       " '/location/geography/body_of_water': 0.003923693131346126,\n",
       " '/location/geography': 0.0053059484781249125,\n",
       " '/other/language': 0.009412880070427305,\n",
       " '/other/scientific': 0.017507239910930176,\n",
       " '/other/event/natural_disaster': 0.004696481423205159,\n",
       " '/person/artist/actor': 0.06534442855492573,\n",
       " '/organization/government': 0.029302219973788932,\n",
       " '/other/heritage': 0.009839108664390792,\n",
       " '/other/product/car': 0.0033341433004433576,\n",
       " '/organization/company/broadcast': 0.007711949139376751,\n",
       " '/organization/political_party': 0.008185979070981004,\n",
       " '/location/structure/airport': 0.0005616657172789885,\n",
       " '/other/art/stage': 0.0012986030059074487,\n",
       " '/location/structure/theater': 0.0007767717366624309,\n",
       " '/other/event/election': 0.0042941534980620545,\n",
       " '/location/geography/island': 0.0007568545126454456,\n",
       " '/organization/transit': 0.0013623381227618019,\n",
       " '/location/geography/mountain': 0.0005975167205095623,\n",
       " '/organization/sports_team': 0.0035333155406132113,\n",
       " '/person/legal': 0.006250024896530021,\n",
       " '/other/event/protest': 0.004031246141037847,\n",
       " '/other/legal': 0.001700930931050554,\n",
       " '/organization/sports_league': 0.001266735447480272,\n",
       " '/location/structure/sports_facility': 0.0004182617043566936,\n",
       " '/location/geograpy/island': 0.0003664769219125315,\n",
       " '/location/geograpy': 0.0003664769219125315,\n",
       " '/location/structure/hospital': 0.00033859280828875193,\n",
       " '/person/doctor': 0.0006054836101163564,\n",
       " '/other/event/accident': 0.00013543712331550077,\n",
       " '/location/structure/restaurant': 0.00045012926278387025,\n",
       " '/other/award': 0.000390377590732914,\n",
       " '/person/coach': 0.00031469213946836946,\n",
       " '/other/language/programming_language': 0.0003266424738785607,\n",
       " '/other/product/computer': 0.00038241070112611986,\n",
       " '/other/event/sports_event': 0.0003027418050581782,\n",
       " '/organization/stock_exchange': 0.001653129593409789,\n",
       " '/location/structure/hotel': 0.000195188795366457,\n",
       " '/location/transit/bridge': 0.00010356956488832413,\n",
       " '/location/transit/railway': 1.9917224016985408e-05,\n",
       " '/other/product/mobile_phone': 7.966889606794163e-05}"
      ]
     },
     "execution_count": 10,
     "metadata": {},
     "output_type": "execute_result"
    }
   ],
   "source": [
    "label_perc = {k: v/len(lines) for k, v in label_counter.items()}\n",
    "label_perc"
   ]
  },
  {
   "cell_type": "code",
   "execution_count": 11,
   "metadata": {},
   "outputs": [],
   "source": [
    "weights = {k : 1 - (v / len(lines)) for k, v in label_counter.items()}"
   ]
  },
  {
   "cell_type": "code",
   "execution_count": 12,
   "metadata": {},
   "outputs": [
    {
     "data": {
      "text/plain": [
       "{'/other': 0.6326945215683619,\n",
       " '/other/body_part': 0.9818235413620992,\n",
       " '/person/title': 0.8487486008150128,\n",
       " '/person': 0.643358203307056,\n",
       " '/person/athlete': 0.9937698923274869,\n",
       " '/other/art': 0.9297519508920925,\n",
       " '/other/art/music': 0.984651787172511,\n",
       " '/other/event': 0.953572950816407,\n",
       " '/other/event/holiday': 0.9900931727739515,\n",
       " '/other/religion': 0.9894120037125705,\n",
       " '/location/country': 0.9093806141675198,\n",
       " '/location': 0.7586709634757947,\n",
       " '/other/currency': 0.9834089523938512,\n",
       " '/other/food': 0.9850142806496202,\n",
       " '/other/health/malady': 0.9695624982572429,\n",
       " '/other/health': 0.9537123713845259,\n",
       " '/person/religious_leader': 0.9856556152629671,\n",
       " '/other/product': 0.9620855723612666,\n",
       " '/other/internet': 0.9816562366803564,\n",
       " '/person/artist/author': 0.8844880675910914,\n",
       " '/person/artist': 0.8586036432586172,\n",
       " '/other/health/treatment': 0.9841419062376762,\n",
       " '/location/city': 0.9426304279414752,\n",
       " '/location/transit/road': 0.9991833938153036,\n",
       " '/location/transit': 0.9990599070263982,\n",
       " '/organization/company/news': 0.9669573253558212,\n",
       " '/other/art/writing': 0.9592174921028207,\n",
       " '/organization': 0.8244495875142906,\n",
       " '/organization/company': 0.9136389166623513,\n",
       " '/other/living_thing/animal': 0.9913160903285944,\n",
       " '/other/living_thing': 0.9728647739992591,\n",
       " '/other/supernatural': 0.9588350814016946,\n",
       " '/organization/music': 0.9930488888180721,\n",
       " '/other/event/violent_conflict': 0.9835005716243292,\n",
       " '/location/structure': 0.9643282517855791,\n",
       " '/organization/military': 0.9862172809802461,\n",
       " '/location/structure/government': 0.9736216285119045,\n",
       " '/person/artist/director': 0.9936742896522054,\n",
       " '/person/artist/music': 0.9894398878261943,\n",
       " '/other/product/software': 0.9908181597281698,\n",
       " '/location/celestial': 0.9968530786053164,\n",
       " '/organization/education': 0.9874282482004788,\n",
       " '/other/product/weapon': 0.9975939993387481,\n",
       " '/person/political_figure': 0.9145351917431156,\n",
       " '/other/art/broadcast': 0.9938137102203244,\n",
       " '/person/military': 0.9582853660188257,\n",
       " '/location/park': 0.9996454734124977,\n",
       " '/other/sports_and_leisure': 0.997773254354901,\n",
       " '/other/art/film': 0.9914116930038759,\n",
       " '/location/geography/body_of_water': 0.9960763068686539,\n",
       " '/location/geography': 0.9946940515218751,\n",
       " '/other/language': 0.9905871199295727,\n",
       " '/other/scientific': 0.9824927600890698,\n",
       " '/other/event/natural_disaster': 0.9953035185767949,\n",
       " '/person/artist/actor': 0.9346555714450743,\n",
       " '/organization/government': 0.9706977800262111,\n",
       " '/other/heritage': 0.9901608913356093,\n",
       " '/other/product/car': 0.9966658566995567,\n",
       " '/organization/company/broadcast': 0.9922880508606232,\n",
       " '/organization/political_party': 0.991814020929019,\n",
       " '/location/structure/airport': 0.999438334282721,\n",
       " '/other/art/stage': 0.9987013969940925,\n",
       " '/location/structure/theater': 0.9992232282633375,\n",
       " '/other/event/election': 0.9957058465019379,\n",
       " '/location/geography/island': 0.9992431454873546,\n",
       " '/organization/transit': 0.9986376618772382,\n",
       " '/location/geography/mountain': 0.9994024832794904,\n",
       " '/organization/sports_team': 0.9964666844593868,\n",
       " '/person/legal': 0.99374997510347,\n",
       " '/other/event/protest': 0.9959687538589621,\n",
       " '/other/legal': 0.9982990690689495,\n",
       " '/organization/sports_league': 0.9987332645525198,\n",
       " '/location/structure/sports_facility': 0.9995817382956433,\n",
       " '/location/geograpy/island': 0.9996335230780875,\n",
       " '/location/geograpy': 0.9996335230780875,\n",
       " '/location/structure/hospital': 0.9996614071917113,\n",
       " '/person/doctor': 0.9993945163898836,\n",
       " '/other/event/accident': 0.9998645628766845,\n",
       " '/location/structure/restaurant': 0.9995498707372161,\n",
       " '/other/award': 0.9996096224092671,\n",
       " '/person/coach': 0.9996853078605317,\n",
       " '/other/language/programming_language': 0.9996733575261214,\n",
       " '/other/product/computer': 0.9996175892988739,\n",
       " '/other/event/sports_event': 0.9996972581949418,\n",
       " '/organization/stock_exchange': 0.9983468704065902,\n",
       " '/location/structure/hotel': 0.9998048112046335,\n",
       " '/location/transit/bridge': 0.9998964304351117,\n",
       " '/location/transit/railway': 0.999980082775983,\n",
       " '/other/product/mobile_phone': 0.9999203311039321}"
      ]
     },
     "execution_count": 12,
     "metadata": {},
     "output_type": "execute_result"
    }
   ],
   "source": [
    "weights"
   ]
  },
  {
   "cell_type": "code",
   "execution_count": null,
   "metadata": {},
   "outputs": [],
   "source": []
  }
 ],
 "metadata": {
  "kernelspec": {
   "display_name": "Python 3",
   "language": "python",
   "name": "python3"
  },
  "language_info": {
   "codemirror_mode": {
    "name": "ipython",
    "version": 3
   },
   "file_extension": ".py",
   "mimetype": "text/x-python",
   "name": "python",
   "nbconvert_exporter": "python",
   "pygments_lexer": "ipython3",
   "version": "3.6.9"
  }
 },
 "nbformat": 4,
 "nbformat_minor": 4
}
